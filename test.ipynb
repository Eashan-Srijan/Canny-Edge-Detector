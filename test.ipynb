{
 "cells": [
  {
   "cell_type": "code",
   "execution_count": 1,
   "id": "65cca3fe",
   "metadata": {},
   "outputs": [],
   "source": [
    "from canny import CannyEdgeDetector"
   ]
  },
  {
   "cell_type": "code",
   "execution_count": 2,
   "id": "02899b24",
   "metadata": {},
   "outputs": [],
   "source": [
    "detector = CannyEdgeDetector('C:/Users/Eashan/Desktop/canny-edge-detector/Images/Test-patterns.bmp')"
   ]
  },
  {
   "cell_type": "code",
   "execution_count": 3,
   "id": "5ed7ba1b",
   "metadata": {},
   "outputs": [],
   "source": [
    "detector.canny_detector()"
   ]
  },
  {
   "cell_type": "code",
   "execution_count": 4,
   "id": "0623d2e2",
   "metadata": {},
   "outputs": [],
   "source": [
    "detector = CannyEdgeDetector('C:/Users/Eashan/Desktop/canny-edge-detector/Images/House.bmp')"
   ]
  },
  {
   "cell_type": "code",
   "execution_count": 6,
   "id": "8fa0e8a7",
   "metadata": {},
   "outputs": [],
   "source": [
    "detector.canny_detector()"
   ]
  }
 ],
 "metadata": {
  "kernelspec": {
   "display_name": "Python 3 (ipykernel)",
   "language": "python",
   "name": "python3"
  },
  "language_info": {
   "codemirror_mode": {
    "name": "ipython",
    "version": 3
   },
   "file_extension": ".py",
   "mimetype": "text/x-python",
   "name": "python",
   "nbconvert_exporter": "python",
   "pygments_lexer": "ipython3",
   "version": "3.7.11"
  }
 },
 "nbformat": 4,
 "nbformat_minor": 5
}
